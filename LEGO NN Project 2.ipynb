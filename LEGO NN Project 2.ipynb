{
 "cells": [
  {
   "cell_type": "markdown",
   "metadata": {},
   "source": [
    "## Neural Network Project 2\n",
    "## LEGO Kaggle Dataset\n",
    "\n",
    "Dominic Allard\n",
    "\n",
    "Samuel Hartle\n"
   ]
  },
  {
   "cell_type": "markdown",
   "metadata": {},
   "source": [
    "### Preprocessing the Data"
   ]
  },
  {
   "cell_type": "code",
   "execution_count": 8,
   "metadata": {},
   "outputs": [],
   "source": [
    "# Importing basics\n",
    "import pandas as pd\n",
    "import numpy as np\n",
    "import tensorflow as tf\n",
    "import matplotlib as mpl\n",
    "import matplotlib.pyplot as plt\n",
    "from tensorflow import keras\n",
    "import os"
   ]
  },
  {
   "cell_type": "markdown",
   "metadata": {},
   "source": [
    "Load and display one of the images"
   ]
  },
  {
   "cell_type": "code",
   "execution_count": 40,
   "metadata": {},
   "outputs": [
    {
     "name": "stdout",
     "output_type": "stream",
     "text": [
      "float32\n",
      "(400, 400, 3)\n"
     ]
    },
    {
     "data": {
      "image/png": "[encoded data removed]",
      "text/plain": [
       "<Figure size 432x288 with 1 Axes>"
      ]
     },
     "metadata": {
      "needs_background": "light"
     },
     "output_type": "display_data"
    }
   ],
   "source": [
    "# Define file path\n",
    "path = r\"C:\\Users\\allar\\Documents\\Neural Networks\\Project 2\\LEGOS\\dataset\"\n",
    "# Load as display an image\n",
    "first = mpl.image.imread(path + \"\\\\2357 brick corner 1x2x2 000L.png\")\n",
    "print(first.dtype)\n",
    "print(first.shape)\n",
    "plt.imshow(first)\n",
    "plt.show()"
   ]
  },
  {
   "cell_type": "markdown",
   "metadata": {},
   "source": [
    "We need to extract the file names from the titles of the images."
   ]
  },
  {
   "cell_type": "code",
   "execution_count": 41,
   "metadata": {},
   "outputs": [
    {
     "name": "stdout",
     "output_type": "stream",
     "text": [
      "(39995, 1)\n",
      "                                         0\n",
      "0      14719 flat tile corner 2x2 002R.png\n",
      "1      14719 flat tile corner 2x2 003L.png\n",
      "2      14719 flat tile corner 2x2 003R.png\n",
      "3      14719 flat tile corner 2x2 004L.png\n",
      "4      14719 flat tile corner 2x2 004R.png\n",
      "...                                    ...\n",
      "39990  99301 roof tile inside 3x3 397R.png\n",
      "39991  99301 roof tile inside 3x3 398L.png\n",
      "39992  99301 roof tile inside 3x3 398R.png\n",
      "39993  99301 roof tile inside 3x3 399L.png\n",
      "39994  99301 roof tile inside 3x3 399R.png\n",
      "\n",
      "[39995 rows x 1 columns]\n"
     ]
    }
   ],
   "source": [
    "# Extract file names\n",
    "def load_names(directory):\n",
    "    f = []\n",
    "    for (filenames) in os.walk(directory):\n",
    "        f.extend(filenames)\n",
    "        break\n",
    "    return f\n",
    "data = pd.DataFrame(load_names(path) [2])\n",
    "\n",
    "# Let's check:\n",
    "print(data.shape)\n",
    "print(data)"
   ]
  },
  {
   "cell_type": "markdown",
   "metadata": {},
   "source": [
    "With that done, let's make a table with all the labels"
   ]
  },
  {
   "cell_type": "code",
   "execution_count": 42,
   "metadata": {},
   "outputs": [
    {
     "name": "stdout",
     "output_type": "stream",
     "text": [
      "(50, 1)\n",
      "    piece_id\n",
      "0      14719\n",
      "1      15672\n",
      "2      18654\n",
      "3       2357\n",
      "4       2420\n",
      "5       2780\n",
      "6      27925\n",
      "7       3001\n",
      "8       3002\n",
      "9       3003\n",
      "10      3004\n",
      "11      3005\n",
      "12      3010\n",
      "13      3020\n",
      "14      3021\n",
      "15      3022\n",
      "16      3023\n",
      "17      3024\n",
      "18      3037\n",
      "19      3038\n",
      "20      3039\n",
      "21      3040\n",
      "22      3045\n",
      "23      3046\n",
      "24      3062\n",
      "25      3063\n",
      "26      3068\n",
      "27      3069\n",
      "28      3070\n",
      "29      3298\n",
      "30     33909\n",
      "31      3622\n",
      "32      3623\n",
      "33      3659\n",
      "34      3675\n",
      "35      3700\n",
      "36      3794\n",
      "37      4150\n",
      "38     41677\n",
      "39     41678\n",
      "40      4274\n",
      "41      4286\n",
      "42     43093\n",
      "43     43857\n",
      "44      4490\n",
      "45     54200\n",
      "46      6143\n",
      "47      6632\n",
      "48     85984\n",
      "49     99301\n"
     ]
    }
   ],
   "source": [
    "# Make a table for all the labels\n",
    "# Rename the first column for clarity\n",
    "data.rename(columns = {0:\"file_name\"}, inplace=True)\n",
    "# Extract the piece id at the beginning of the filename\n",
    "data[\"piece_id\"] = data[\"file_name\"].str.split(\" \").str[0]\n",
    "# Drop the filename before drop duplicates\n",
    "data = data.drop([\"file_name\"], axis=1)\n",
    "# Drop duplicates\n",
    "data = data.drop_duplicates()\n",
    "# Reset ids\n",
    "data = data.reset_index(drop=True)\n",
    "# We convert the string id to numeric id\n",
    "data[\"piece_id\"] = pd.to_numeric(data[\"piece_id\"])\n",
    "\n",
    "# Let's check the size\n",
    "print(data.shape)\n",
    "print(data)"
   ]
  },
  {
   "cell_type": "markdown",
   "metadata": {},
   "source": [
    "Table done. Make a dictionary of the labels. "
   ]
  },
  {
   "cell_type": "code",
   "execution_count": 43,
   "metadata": {},
   "outputs": [
    {
     "name": "stdout",
     "output_type": "stream",
     "text": [
      "[0, 1, 2, 3, 4, 5, 6, 7, 8, 9, 10, 11, 12, 13, 14, 15, 16, 17, 18, 19, 20, 21, 22, 23, 24, 25, 26, 27, 28, 29, 30, 31, 32, 33, 34, 35, 36, 37, 38, 39, 40, 41, 42, 43, 44, 45, 46, 47, 48, 49]\n",
      "[0, 0, 0, 0, 0, 0, 0, 0, 0, 0, 0, 0, 0, 0, 0, 0, 0, 0, 0, 0, 0, 0, 0, 0, 0, 0, 0, 0, 0, 0, 0, 0, 0, 0, 0, 0, 0, 0, 0, 0, 0, 0, 0, 0, 0, 0, 0, 0, 0, 0]\n"
     ]
    }
   ],
   "source": [
    "# Set a dictionary\n",
    "# Dictionary of piece_id's with the order id that will be used in the classifier\n",
    "dic = data.to_dict(\"dict\")[\"piece_id\"]\n",
    "\n",
    "# Set two useful id vectors\n",
    "conversion_vector = [i for i in range(len(dic))]\n",
    "print(conversion_vector)\n",
    "conversion_empty = [0 for i in range(len(dic))]\n",
    "print(conversion_empty)\n",
    "\n",
    "# General variables\n",
    "CLASS_NAMES = data[\"piece_id\"]\n",
    "NB_CLASSES = len(CLASS_NAMES)"
   ]
  },
  {
   "cell_type": "markdown",
   "metadata": {},
   "source": [
    "Need to randomly suffle the images. Setting a random seed first."
   ]
  },
  {
   "cell_type": "code",
   "execution_count": 44,
   "metadata": {},
   "outputs": [],
   "source": [
    "# Set random seeds\n",
    "np.random.seed(42)\n",
    "tf.random.set_seed(42)"
   ]
  },
  {
   "cell_type": "markdown",
   "metadata": {},
   "source": [
    "Load files in and shuffle."
   ]
  },
  {
   "cell_type": "code",
   "execution_count": 52,
   "metadata": {},
   "outputs": [
    {
     "name": "stdout",
     "output_type": "stream",
     "text": [
      "b'C:\\\\Users\\\\allar\\\\Documents\\\\Neural Networks\\\\Project 2\\\\LEGOS\\\\dataset\\\\3024 plate 1x1 106R.png'\n",
      "b'C:\\\\Users\\\\allar\\\\Documents\\\\Neural Networks\\\\Project 2\\\\LEGOS\\\\dataset\\\\99301 roof tile inside 3x3 321R.png'\n",
      "b'C:\\\\Users\\\\allar\\\\Documents\\\\Neural Networks\\\\Project 2\\\\LEGOS\\\\dataset\\\\3002 brick 2x3 229L.png'\n",
      "b'C:\\\\Users\\\\allar\\\\Documents\\\\Neural Networks\\\\Project 2\\\\LEGOS\\\\dataset\\\\3623 Plate 1x3 314R.png'\n",
      "b'C:\\\\Users\\\\allar\\\\Documents\\\\Neural Networks\\\\Project 2\\\\LEGOS\\\\dataset\\\\43857 beam 1x2 246L.png'\n",
      "b'C:\\\\Users\\\\allar\\\\Documents\\\\Neural Networks\\\\Project 2\\\\LEGOS\\\\dataset\\\\3024 plate 1x1 106R.png'\n",
      "b'C:\\\\Users\\\\allar\\\\Documents\\\\Neural Networks\\\\Project 2\\\\LEGOS\\\\dataset\\\\99301 roof tile inside 3x3 321R.png'\n",
      "b'C:\\\\Users\\\\allar\\\\Documents\\\\Neural Networks\\\\Project 2\\\\LEGOS\\\\dataset\\\\3002 brick 2x3 229L.png'\n",
      "b'C:\\\\Users\\\\allar\\\\Documents\\\\Neural Networks\\\\Project 2\\\\LEGOS\\\\dataset\\\\3623 Plate 1x3 314R.png'\n",
      "b'C:\\\\Users\\\\allar\\\\Documents\\\\Neural Networks\\\\Project 2\\\\LEGOS\\\\dataset\\\\43857 beam 1x2 246L.png'\n"
     ]
    }
   ],
   "source": [
    "# Load files\n",
    "# Load file names, all in the dataset directory, we remove auto shuffle\n",
    "list_ds = tf.data.Dataset.list_files(str(path + '*'), shuffle=False)\n",
    "\n",
    "# We shuffle the list, but not at each iteration because as we don't want train, test and validation datasets to overlap on a new run\n",
    "list_ds = list_ds.shuffle(40000, seed=42, reshuffle_each_iteration=False)\n",
    "\n",
    "# We check 2x list_ds is always shuffled in the same order\n",
    "for i in list_ds.take(5):\n",
    "    print(i.numpy())\n",
    "for i in list_ds.take(5):\n",
    "    print(i.numpy())"
   ]
  },
  {
   "cell_type": "markdown",
   "metadata": {},
   "source": [
    "Train/test/val split the data."
   ]
  },
  {
   "cell_type": "code",
   "execution_count": 47,
   "metadata": {},
   "outputs": [
    {
     "name": "stdout",
     "output_type": "stream",
     "text": [
      "tf.Tensor(32000, shape=(), dtype=int64)\n",
      "tf.Tensor(4800, shape=(), dtype=int64)\n",
      "tf.Tensor(3196, shape=(), dtype=int64)\n"
     ]
    }
   ],
   "source": [
    "# Train, test, validation split\n",
    "# Split\n",
    "train_size = int(32000)\n",
    "val_size = int(3200)\n",
    "test_size = int(4800)\n",
    "\n",
    "train_ds = list_ds.take(train_size)\n",
    "test_ds = list_ds.skip(train_size)\n",
    "val_ds = test_ds.skip(test_size)\n",
    "test_ds = test_ds.take(test_size)\n",
    "\n",
    "# Check dataset size\n",
    "print(tf.data.experimental.cardinality(train_ds))\n",
    "print(tf.data.experimental.cardinality(test_ds))\n",
    "print(tf.data.experimental.cardinality(val_ds))"
   ]
  },
  {
   "cell_type": "markdown",
   "metadata": {},
   "source": [
    "Need a bit more preprocessing so that we can feed the data into the CNN."
   ]
  },
  {
   "cell_type": "code",
   "execution_count": 48,
   "metadata": {},
   "outputs": [],
   "source": [
    "# Load and resize images to tensor with floats in the [0,1] range, at a specific size for the CNN\n",
    "def decode_img(img):\n",
    "    img = tf.image.decode_png(img, channels=3)\n",
    "    img = tf.image.convert_image_dtype(img, tf.float32)\n",
    "    return tf.image.resize(img, [224, 224])\n",
    "\n",
    "# Get the label corresponding to the image returning a number in the [0,50] range , corresponding to the id in the earlier DataFrame\n",
    "def get_label(file_path):\n",
    "    parts=tf.strings.split(file_path,\n",
    "                 os.path.sep)[-1]\n",
    "    parts=tf.strings.split(parts, \" \")[0]\n",
    "    parts=tf.strings.to_number(parts, out_type=tf.dtypes.int64) \n",
    "    parts=tf.where(parts==CLASS_NAMES, conversion_vector, conversion_empty)\n",
    "    return tf.math.reduce_sum(parts)\n",
    "\n",
    "# Return Images and their corresponding label (id)\n",
    "def process_path(file_path):\n",
    "    label = get_label(file_path)\n",
    "    img = tf.io.read_file(file_path)\n",
    "    img = decode_img(img)\n",
    "    return img, label"
   ]
  },
  {
   "cell_type": "markdown",
   "metadata": {},
   "source": [
    "Load preprocessed data."
   ]
  },
  {
   "cell_type": "code",
   "execution_count": 49,
   "metadata": {},
   "outputs": [
    {
     "name": "stdout",
     "output_type": "stream",
     "text": [
      "Image shape:  (224, 224, 3)\n",
      "Label:  17\n",
      "Image shape:  (224, 224, 3)\n",
      "Label:  49\n",
      "Image shape:  (224, 224, 3)\n",
      "Label:  8\n",
      "Image shape:  (224, 224, 3)\n",
      "Label:  32\n",
      "Image shape:  (224, 224, 3)\n",
      "Label:  43\n"
     ]
    }
   ],
   "source": [
    "# Create Loading using parallel calls, hypermeters hasn't been tweaked\n",
    "train_load = train_ds.map(process_path, num_parallel_calls=50)\n",
    "test_load = test_ds.map(process_path, num_parallel_calls=50)\n",
    "val_load = val_ds.map(process_path, num_parallel_calls=50)\n",
    "\n",
    "# Check 5 images in the train dataset\n",
    "for image, label in train_load.take(5):\n",
    "    print(\"Image shape: \", image.numpy().shape)\n",
    "    print(\"Label: \", label.numpy())"
   ]
  },
  {
   "cell_type": "markdown",
   "metadata": {},
   "source": [
    "Shuffle the data again and prepare it for training. "
   ]
  },
  {
   "cell_type": "code",
   "execution_count": 50,
   "metadata": {},
   "outputs": [],
   "source": [
    "\n",
    "# Cache parameter was originally set on True\n",
    "def prepare_for_training(ds, cache=False, shuffle_buffer_size=1000):\n",
    "    if cache:\n",
    "        if isinstance(cache, str):\n",
    "            ds = ds.cache(cache)\n",
    "    else:\n",
    "        ds = ds.cache()\n",
    "\n",
    "    ds = ds.shuffle(buffer_size=shuffle_buffer_size, reshuffle_each_iteration=True)\n",
    "    # Repeat forever after shuffling at each iteration, as the sets are now clearly distinct to have different batches at each epoch\n",
    "    ds = ds.repeat()\n",
    "  \n",
    "    # Batch by 8, this was the highest value possible with my GPU/CPU\n",
    "    ds = ds.batch(8)\n",
    "  \n",
    "    # `prefetch` lets the dataset fetch batches in the background while the model\n",
    "    # is training. Bufer size is an hyperparameter that hasn't been tweaked, set to 1.\n",
    "    ds = ds.prefetch(buffer_size=1)\n",
    "    return ds"
   ]
  },
  {
   "cell_type": "markdown",
   "metadata": {},
   "source": [
    "Set our train, test, and validation dataset."
   ]
  },
  {
   "cell_type": "code",
   "execution_count": 53,
   "metadata": {},
   "outputs": [],
   "source": [
    "train_set = prepare_for_training(train_load)\n",
    "val_set = prepare_for_training(val_load)\n",
    "test_set = prepare_for_training(test_load)"
   ]
  },
  {
   "cell_type": "code",
   "execution_count": null,
   "metadata": {},
   "outputs": [],
   "source": []
  }
 ],
 "metadata": {
  "kernelspec": {
   "display_name": "Python 3",
   "language": "python",
   "name": "python3"
  },
  "language_info": {
   "codemirror_mode": {
    "name": "ipython",
    "version": 3
   },
   "file_extension": ".py",
   "mimetype": "text/x-python",
   "name": "python",
   "nbconvert_exporter": "python",
   "pygments_lexer": "ipython3",
   "version": "3.7.9"
  }
 },
 "nbformat": 4,
 "nbformat_minor": 4
}
